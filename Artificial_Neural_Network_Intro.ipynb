{
  "nbformat": 4,
  "nbformat_minor": 0,
  "metadata": {
    "colab": {
      "name": "Artificial Neural Network Intro.ipynb",
      "provenance": [],
      "authorship_tag": "ABX9TyPDBmarYt0DdBHH7UWE+73J",
      "include_colab_link": true
    },
    "kernelspec": {
      "name": "python3",
      "display_name": "Python 3"
    },
    "language_info": {
      "name": "python"
    }
  },
  "cells": [
    {
      "cell_type": "markdown",
      "metadata": {
        "id": "view-in-github",
        "colab_type": "text"
      },
      "source": [
        "<a href=\"https://colab.research.google.com/github/beatricexc/Artificial-Intelligence-Machine-Learning/blob/main/Artificial_Neural_Network_Intro.ipynb\" target=\"_parent\"><img src=\"https://colab.research.google.com/assets/colab-badge.svg\" alt=\"Open In Colab\"/></a>"
      ]
    },
    {
      "cell_type": "code",
      "execution_count": 27,
      "metadata": {
        "colab": {
          "base_uri": "https://localhost:8080/"
        },
        "id": "der8RcOGQFQL",
        "outputId": "a8dd4b1c-3d64-4533-c363-11130738ec12"
      },
      "outputs": [
        {
          "output_type": "stream",
          "name": "stdout",
          "text": [
            "[[ 3.  5.]\n",
            " [ 5.  1.]\n",
            " [10.  2.]]\n"
          ]
        }
      ],
      "source": [
        "import numpy as np\n",
        "import matplotlib.pyplot as plt\n",
        "\n",
        "#storing the data in a 2-dimensional array\n",
        "# X = (hours sleeping, hours studying), y = Score on test \n",
        "X = np.array(([3,5], [5,1], [10,2]), dtype = float)\n",
        "y = np.array(([75], [82], [93]),)\n",
        "print(X)"
      ]
    },
    {
      "cell_type": "code",
      "source": [
        "print(y)"
      ],
      "metadata": {
        "colab": {
          "base_uri": "https://localhost:8080/"
        },
        "id": "7G4tnBOjVXBg",
        "outputId": "fee0c961-4c62-474b-b06b-ea441904b60a"
      },
      "execution_count": 28,
      "outputs": [
        {
          "output_type": "stream",
          "name": "stdout",
          "text": [
            "[[75]\n",
            " [82]\n",
            " [93]]\n"
          ]
        }
      ]
    },
    {
      "cell_type": "markdown",
      "source": [
        "Predicting the test score based on slept hours and hours studied the night before the exam. In oder words, we will be predicting the output value *y* which are scores for a given set of input values X which are hours of (sleep, study)"
      ],
      "metadata": {
        "id": "YuUJg_LYWQA3"
      }
    },
    {
      "cell_type": "code",
      "source": [
        "#Scaling the data so the result is in [0,1]\n",
        "X = X/np.amax(X, axis = 0)\n",
        "y = y/100\n",
        "X"
      ],
      "metadata": {
        "colab": {
          "base_uri": "https://localhost:8080/"
        },
        "id": "XQEEA_rNXm0B",
        "outputId": "7e945cf8-8ee7-454f-8465-00178dab32f7"
      },
      "execution_count": 29,
      "outputs": [
        {
          "output_type": "execute_result",
          "data": {
            "text/plain": [
              "array([[0.3, 1. ],\n",
              "       [0.5, 0.2],\n",
              "       [1. , 0.4]])"
            ]
          },
          "metadata": {},
          "execution_count": 29
        }
      ]
    },
    {
      "cell_type": "code",
      "source": [
        "y"
      ],
      "metadata": {
        "colab": {
          "base_uri": "https://localhost:8080/"
        },
        "id": "Air_CVrcYD22",
        "outputId": "f88a564e-c4b6-4576-ec72-16f7f9d69b83"
      },
      "execution_count": 30,
      "outputs": [
        {
          "output_type": "execute_result",
          "data": {
            "text/plain": [
              "array([[0.75],\n",
              "       [0.82],\n",
              "       [0.93]])"
            ]
          },
          "metadata": {},
          "execution_count": 30
        }
      ]
    },
    {
      "cell_type": "markdown",
      "source": [
        "Building the Neural Network. \n",
        "\n",
        "IT must have 2 inputs (X) and 1 output(y)We'll call our output \n",
        "^\n",
        "y\n",
        ", because it's an estimate of \n",
        "y\n",
        "\n"
      ],
      "metadata": {
        "id": "nc3Xx7ZgYOVF"
      }
    },
    {
      "cell_type": "markdown",
      "source": [
        "Any layer between the input and output layer is called  a **hidden layer** . Here we're going to use just one hidden layer with 3 neurons along with the sigmoid function."
      ],
      "metadata": {
        "id": "KECH2m15ZjJU"
      }
    },
    {
      "cell_type": "code",
      "source": [
        " print(X.shape,y.shape)"
      ],
      "metadata": {
        "colab": {
          "base_uri": "https://localhost:8080/"
        },
        "id": "V4tpWF3HaLPR",
        "outputId": "005e28b2-3118-4cc8-f6fe-68a516fab574"
      },
      "execution_count": 31,
      "outputs": [
        {
          "output_type": "stream",
          "name": "stdout",
          "text": [
            "(3, 2) (3, 1)\n"
          ]
        }
      ]
    },
    {
      "cell_type": "code",
      "source": [
        "X"
      ],
      "metadata": {
        "colab": {
          "base_uri": "https://localhost:8080/"
        },
        "id": "-BRswZ41bS5m",
        "outputId": "7aaf704b-5f4e-471e-a183-73bf376dc42d"
      },
      "execution_count": 32,
      "outputs": [
        {
          "output_type": "execute_result",
          "data": {
            "text/plain": [
              "array([[0.3, 1. ],\n",
              "       [0.5, 0.2],\n",
              "       [1. , 0.4]])"
            ]
          },
          "metadata": {},
          "execution_count": 32
        }
      ]
    },
    {
      "cell_type": "code",
      "source": [
        "y"
      ],
      "metadata": {
        "colab": {
          "base_uri": "https://localhost:8080/"
        },
        "id": "a_3CPlI7bVOM",
        "outputId": "e449b968-15eb-4143-d30c-a0f94eb65052"
      },
      "execution_count": 33,
      "outputs": [
        {
          "output_type": "execute_result",
          "data": {
            "text/plain": [
              "array([[0.75],\n",
              "       [0.82],\n",
              "       [0.93]])"
            ]
          },
          "metadata": {},
          "execution_count": 33
        }
      ]
    },
    {
      "cell_type": "markdown",
      "source": [
        "Building the network as a python class. The init() method of the class will take care of instantiating constants and variables."
      ],
      "metadata": {
        "id": "yqTBq3c9dCf6"
      }
    },
    {
      "cell_type": "code",
      "source": [
        "class NeuralNetwork(object):\n",
        "  def self():\n",
        "    self.inputLayerSize = 2\n",
        "    self.hiddenLayerSize = 3\n",
        "    self.outputLayerSize = 1\n",
        "\n",
        "  def forwardPropagation(self, X):\n",
        "    pass"
      ],
      "metadata": {
        "id": "kDLyLxbedMr7"
      },
      "execution_count": 36,
      "outputs": []
    },
    {
      "cell_type": "markdown",
      "source": [
        "To be continued...."
      ],
      "metadata": {
        "id": "RBts6d7UeM6M"
      }
    }
  ]
}